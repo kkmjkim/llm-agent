{
 "cells": [
  {
   "cell_type": "code",
   "execution_count": 15,
   "metadata": {},
   "outputs": [
    {
     "data": {
      "text/plain": [
       "True"
      ]
     },
     "execution_count": 15,
     "metadata": {},
     "output_type": "execute_result"
    }
   ],
   "source": [
    "from dotenv import load_dotenv\n",
    "\n",
    "load_dotenv()"
   ]
  },
  {
   "cell_type": "code",
   "execution_count": 16,
   "metadata": {},
   "outputs": [],
   "source": [
    "from langchain_openai import ChatOpenAI\n",
    "\n",
    "llm = ChatOpenAI(model=\"gpt-4o-mini\")"
   ]
  },
  {
   "cell_type": "code",
   "execution_count": 17,
   "metadata": {},
   "outputs": [],
   "source": [
    "async def process_stream(stream_generator):\n",
    "    results = []\n",
    "    try:\n",
    "        async for chunk in stream_generator:\n",
    "            key = list(chunk.keys())[0]\n",
    "            if key == 'agent':\n",
    "                content = chunk['agent']['messages'][0].content if chunk['agent']['messages'][0].content != '' else chunk['agent']['messages'][0].additional_kwargs\n",
    "                print('agent:', content)\n",
    "            elif key == 'tools':\n",
    "                for tool_msg in chunk['tools']['messages']:\n",
    "                    print('tools:', tool_msg.content)\n",
    "            results.append(chunk)\n",
    "        return results\n",
    "    except Exception as e:\n",
    "        print('Error processing stream:', e)\n",
    "        return results\n",
    "    "
   ]
  },
  {
   "cell_type": "code",
   "execution_count": 18,
   "metadata": {},
   "outputs": [],
   "source": [
    "\n",
    "from langchain_mcp_adapters.client import MultiServerMCPClient\n",
    "from langgraph.prebuilt import create_react_agent\n",
    "from langchain_core.messages import HumanMessage\n",
    "\n",
    "# As of langchain-mcp-adapters 0.1.0, MultiServerMCPClient cannot be used this way\n",
    "# async with MultiServerMCPClient(\n",
    "#     {\n",
    "#         \"math\": {\n",
    "#             \"command\": \"python\",\n",
    "#             \"args\": [\"./mcp_server.py\"],\n",
    "#             \"transport\": \"stdio\",\n",
    "#         }\n",
    "#     }\n",
    "# ) as client:\n",
    "#     tool_list = client.get_tools()\n",
    "#     agent = create_react_agent(llm, tool_list)\n",
    "#     query = \"5억짜리 집 1채, 10억짜리 집 1채, 20억짜리 집 1채를 가지고 있을 때 세금을 얼마나 내나요?\"\n",
    "#     system_prompt = client.get_prompt(server_name=\"house_tax\", prompt_name=\"house_tax_system_prompt\", arguments={})\n",
    "#     messages = await system_prompt + [HumanMessage(content=query)]\n",
    "#     stream_generator = agent.astream({\"messages\": messages})\n",
    "\n",
    "#     all_chunks = await process_stream(stream_generator)\n",
    "\n",
    "#     if all_chunks:\n",
    "#         final_result = all_chunks[-1]\n",
    "#         print(\"Final result:\", final_result)"
   ]
  },
  {
   "cell_type": "code",
   "execution_count": 19,
   "metadata": {},
   "outputs": [],
   "source": [
    "from langchain_mcp_adapters.tools import load_mcp_tools\n",
    "from langchain_mcp_adapters.prompts import load_mcp_prompt\n",
    "from mcp import StdioServerParameters, ClientSession\n",
    "from mcp.client.stdio import stdio_client\n",
    "\n",
    "mcp_server_params = StdioServerParameters(\n",
    "    command=\"python\",\n",
    "    args=[\"./mcp_server.py\"]\n",
    ")\n",
    "async def run_agent():\n",
    "    async with stdio_client(mcp_server_params) as (read, write):\n",
    "        async with ClientSession(read, write) as session:\n",
    "            # init connection\n",
    "            await session.initialize()\n",
    "\n",
    "            tool_list = await load_mcp_tools(session)\n",
    "            agent = create_react_agent(llm, tool_list)\n",
    "            query = '5억짜리 집 1채, 10억짜리 집 1채, 20억짜리 집 1채를 가지고 있을 때 세금을 얼마나 내나요?'\n",
    "            system_prompt = await load_mcp_prompt(session, 'house_tax_system_prompt', arguments={})\n",
    "            messages = system_prompt + [HumanMessage(query)]\n",
    "            stream_generator = agent.astream({'messages': messages})\n",
    "            all_chunks = await process_stream(stream_generator)\n",
    "\n",
    "            if all_chunks:\n",
    "                final_result = all_chunks[-1]\n",
    "                print(\"Final result:\", final_result)\n",
    "\n",
    "\n"
   ]
  },
  {
   "cell_type": "code",
   "execution_count": 20,
   "metadata": {},
   "outputs": [],
   "source": [
    "import nest_asyncio\n",
    "nest_asyncio.apply()"
   ]
  },
  {
   "cell_type": "code",
   "execution_count": 21,
   "metadata": {},
   "outputs": [
    {
     "name": "stdout",
     "output_type": "stream",
     "text": [
      "agent: {'tool_calls': [{'id': 'call_wvmYpCUVsi4EHGdbPf6AvMiw', 'function': {'arguments': '{}', 'name': 'tax_base_tool'}, 'type': 'function'}, {'id': 'call_MWcXCtS33D3BIciAwE5EC1Fb', 'function': {'arguments': '{\"question\": \"5억짜리 집 1채, 10억짜리 집 1채, 20억짜리 집 1채에 대한 세금 공제액은 얼마인가요?\"}', 'name': 'tax_deductible_tool'}, 'type': 'function'}, {'id': 'call_8d5zn6RzX1twQRtFdGVEIPRY', 'function': {'arguments': '{\"question\": \"5억짜리 집 1채, 10억짜리 집 1채, 20억짜리 집 1채에 대한 공정시장가액비율은 얼마인가요?\"}', 'name': 'market_value_rate_tool'}, 'type': 'function'}], 'refusal': None}\n",
      "tools: 과세표준 = (주택의 공시가격 합산 - 공제금액) × 공정시장가액비율\n",
      "tools: 답변: 0원\n",
      "tools: 45%\n",
      "agent: {'tool_calls': [{'id': 'call_vFyM8T6srxYLa5KNlgNE51HB', 'function': {'arguments': '{\"tax_base_question\":\"과세표준 = (주택의 공시지가 합산 - 공제액) × 공정시장가액비율\",\"market_value_rate\":\"45%\",\"tax_deductible\":\"0원\",\"question\":\"5억짜리 집 1채, 10억짜리 집 1채, 20억짜리 집 1채에 대한 종합부동산세는 얼마인가요?\"}', 'name': 'house_tax_tool'}, 'type': 'function'}], 'refusal': None}\n",
      "tools: 주택의 공시지가 합산은 5억 원 + 10억 원 + 20억 원 = 35억 원입니다.\n",
      "\n",
      "과세표준을 계산하기 위해 공정시장가액비율을 적용합니다.\n",
      "과세표준 = 35억 원 × 45% = 15억 7,500만 원\n",
      "\n",
      "납세의무자가 2주택 이하를 소유한 경우의 세율을 적용합니다. 그러나 현재 주택 수는 3채이므로 3주택 이상을 소유한 경우의 세율을 적용해야 합니다.\n",
      "\n",
      "과세표준이 12억 원 초과 25억 원 이하인 경우, 세율은 960만 원 + (12억 원을 초과하는 금액의 1천분의 20)입니다.\n",
      "\n",
      "따라서,\n",
      "12억 원을 초과하는 금액 = 15억 7,500만 원 - 12억 원 = 3억 7,500만 원\n",
      "\n",
      "세액 = 960만 원 + (3억 7,500만 원 × 0.002)\n",
      "     = 960만 원 + 750만 원\n",
      "     = 1,710만 원\n",
      "\n",
      "따라서, 해당 주택들에 대한 종합부동산세는 1,710만 원입니다.\n",
      "agent: 5억짜리 집 1채, 10억짜리 집 1채, 20억짜리 집 1채를 가지고 계신 경우, 종합부동산세는 다음과 같이 계산됩니다.\n",
      "\n",
      "1. **주택의 공시지가 합산**: \n",
      "   - 5억 원 + 10억 원 + 20억 원 = 35억 원\n",
      "\n",
      "2. **과세표준**:\n",
      "   - 과세표준 = 주택의 공시지가 합산 × 공정시장가액비율\n",
      "   - 과세표준 = 35억 원 × 45% = 15억 7,500만 원\n",
      "\n",
      "3. **세율 적용**:\n",
      "   - 현재 3채의 주택을 보유하고 있으므로 3주택 이상 세율을 적용합니다.\n",
      "   - 과세표준이 12억 원 초과 25억 원 이하인 경우, 세율은 960만 원 + (12억 원을 초과하는 금액의 1천분의 20)입니다.\n",
      "   - 12억 원을 초과하는 금액 = 15억 7,500만 원 - 12억 원 = 3억 7,500만 원\n",
      "\n",
      "4. **세액 계산**:\n",
      "   - 세액 = 960만 원 + (3억 7,500만 원 × 0.002)\n",
      "   - 세액 = 960만 원 + 750만 원 = 1,710만 원\n",
      "\n",
      "따라서, 해당 주택들에 대한 종합부동산세는 **1,710만 원**입니다.\n",
      "Final result: {'agent': {'messages': [AIMessage(content='5억짜리 집 1채, 10억짜리 집 1채, 20억짜리 집 1채를 가지고 계신 경우, 종합부동산세는 다음과 같이 계산됩니다.\\n\\n1. **주택의 공시지가 합산**: \\n   - 5억 원 + 10억 원 + 20억 원 = 35억 원\\n\\n2. **과세표준**:\\n   - 과세표준 = 주택의 공시지가 합산 × 공정시장가액비율\\n   - 과세표준 = 35억 원 × 45% = 15억 7,500만 원\\n\\n3. **세율 적용**:\\n   - 현재 3채의 주택을 보유하고 있으므로 3주택 이상 세율을 적용합니다.\\n   - 과세표준이 12억 원 초과 25억 원 이하인 경우, 세율은 960만 원 + (12억 원을 초과하는 금액의 1천분의 20)입니다.\\n   - 12억 원을 초과하는 금액 = 15억 7,500만 원 - 12억 원 = 3억 7,500만 원\\n\\n4. **세액 계산**:\\n   - 세액 = 960만 원 + (3억 7,500만 원 × 0.002)\\n   - 세액 = 960만 원 + 750만 원 = 1,710만 원\\n\\n따라서, 해당 주택들에 대한 종합부동산세는 **1,710만 원**입니다.', additional_kwargs={'refusal': None}, response_metadata={'token_usage': {'completion_tokens': 346, 'prompt_tokens': 1416, 'total_tokens': 1762, 'completion_tokens_details': {'accepted_prediction_tokens': 0, 'audio_tokens': 0, 'reasoning_tokens': 0, 'rejected_prediction_tokens': 0}, 'prompt_tokens_details': {'audio_tokens': 0, 'cached_tokens': 1024}}, 'model_name': 'gpt-4o-mini-2024-07-18', 'system_fingerprint': 'fp_34a54ae93c', 'finish_reason': 'stop', 'logprobs': None}, id='run--8057fb5c-9989-4403-b74d-091bb205a343-0', usage_metadata={'input_tokens': 1416, 'output_tokens': 346, 'total_tokens': 1762, 'input_token_details': {'audio': 0, 'cache_read': 1024}, 'output_token_details': {'audio': 0, 'reasoning': 0}})]}}\n"
     ]
    }
   ],
   "source": [
    "import asyncio\n",
    "asyncio.run(run_agent())"
   ]
  }
 ],
 "metadata": {
  "kernelspec": {
   "display_name": ".venv",
   "language": "python",
   "name": "python3"
  },
  "language_info": {
   "codemirror_mode": {
    "name": "ipython",
    "version": 3
   },
   "file_extension": ".py",
   "mimetype": "text/x-python",
   "name": "python",
   "nbconvert_exporter": "python",
   "pygments_lexer": "ipython3",
   "version": "3.13.3"
  }
 },
 "nbformat": 4,
 "nbformat_minor": 2
}
